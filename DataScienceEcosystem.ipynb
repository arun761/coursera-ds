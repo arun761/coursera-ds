{
  "metadata": {
    "language_info": {
      "codemirror_mode": {
        "name": "python",
        "version": 3
      },
      "file_extension": ".py",
      "mimetype": "text/x-python",
      "name": "python",
      "nbconvert_exporter": "python",
      "pygments_lexer": "ipython3",
      "version": "3.8"
    },
    "kernelspec": {
      "name": "python",
      "display_name": "Python (Pyodide)",
      "language": "python"
    }
  },
  "nbformat_minor": 4,
  "nbformat": 4,
  "cells": [
    {
      "cell_type": "markdown",
      "source": "**Ex:2(title of notebook)**",
      "metadata": {}
    },
    {
      "cell_type": "markdown",
      "source": "# MY_FirstProject_Assignment",
      "metadata": {}
    },
    {
      "cell_type": "markdown",
      "source": "**Ex:3(an introduction)**",
      "metadata": {}
    },
    {
      "cell_type": "markdown",
      "source": "In this notebook, we are going to summarize data science tools,libraries.",
      "metadata": {}
    },
    {
      "cell_type": "markdown",
      "source": "**Ex:4(Data Science languages)**",
      "metadata": {}
    },
    {
      "cell_type": "markdown",
      "source": "Some of the popular languages that Data Scientists use are: <br>\n1.Python <br>\n2.R <br>\n3.C/C++ <br>\n4.Java <br>\n5.Julia <br>\n6.JavaScript <br>\n7.SQL <br>\n8.Scala",
      "metadata": {}
    },
    {
      "cell_type": "markdown",
      "source": "**Ex:5(Data Science Libraries)**",
      "metadata": {}
    },
    {
      "cell_type": "markdown",
      "source": "Some of the commonly used libraries used by Data Scientists are: <br>\n1.Matplotlib <br>\n2.Pandas <br>\n3.Numpy <br>\n4.Seaborn <br>\n5.Statsmodels <br>\n6.Pytorch <br>\n7.keras <br>\n8.TensorFlow <br>\n9.sciPy <br>\n10.Scikit-learn <br>\n11.Pyspark <br>\n12.Ramp <br>\n13.Stringr <br>\n14.Rcpp <br>\n15.ggplot2",
      "metadata": {}
    },
    {
      "cell_type": "markdown",
      "source": "**Ex:6(data Science Tools)**",
      "metadata": {}
    },
    {
      "cell_type": "markdown",
      "source": "Data Science Tools: <br>\n<br>\n1.Apache Hadoop <br>\n2.Apache Spark <br>\n3.Tableau <br>\n4.SQL <br>\n5.MATLAB <br>\n6.Python <br>\n7.R <br>\n8.RapidMiner",
      "metadata": {}
    },
    {
      "cell_type": "markdown",
      "source": "**Ex:7(Below are Few examples for arithmetic operations)**",
      "metadata": {}
    },
    {
      "cell_type": "code",
      "source": "a=5\nb=6",
      "metadata": {
        "trusted": true
      },
      "execution_count": 16,
      "outputs": []
    },
    {
      "cell_type": "code",
      "source": "a+b",
      "metadata": {
        "trusted": true
      },
      "execution_count": 15,
      "outputs": [
        {
          "execution_count": 15,
          "output_type": "execute_result",
          "data": {
            "text/plain": "24"
          },
          "metadata": {}
        }
      ]
    },
    {
      "cell_type": "code",
      "source": "a-b",
      "metadata": {
        "trusted": true
      },
      "execution_count": 4,
      "outputs": [
        {
          "execution_count": 4,
          "output_type": "execute_result",
          "data": {
            "text/plain": "-1"
          },
          "metadata": {}
        }
      ]
    },
    {
      "cell_type": "code",
      "source": "a*b",
      "metadata": {
        "trusted": true
      },
      "execution_count": 5,
      "outputs": [
        {
          "execution_count": 5,
          "output_type": "execute_result",
          "data": {
            "text/plain": "30"
          },
          "metadata": {}
        }
      ]
    },
    {
      "cell_type": "code",
      "source": "a%b",
      "metadata": {
        "trusted": true
      },
      "execution_count": 6,
      "outputs": [
        {
          "execution_count": 6,
          "output_type": "execute_result",
          "data": {
            "text/plain": "5"
          },
          "metadata": {}
        }
      ]
    },
    {
      "cell_type": "code",
      "source": "a//b",
      "metadata": {
        "trusted": true
      },
      "execution_count": 7,
      "outputs": [
        {
          "execution_count": 7,
          "output_type": "execute_result",
          "data": {
            "text/plain": "0"
          },
          "metadata": {}
        }
      ]
    },
    {
      "cell_type": "code",
      "source": "a**b",
      "metadata": {
        "trusted": true
      },
      "execution_count": 8,
      "outputs": [
        {
          "execution_count": 8,
          "output_type": "execute_result",
          "data": {
            "text/plain": "15625"
          },
          "metadata": {}
        }
      ]
    },
    {
      "cell_type": "markdown",
      "source": "**Ex:8(Simple arithmetic expression to multiply and add)**",
      "metadata": {}
    },
    {
      "cell_type": "code",
      "source": "a=(2*5)+8\na",
      "metadata": {
        "trusted": true
      },
      "execution_count": 9,
      "outputs": [
        {
          "execution_count": 9,
          "output_type": "execute_result",
          "data": {
            "text/plain": "18"
          },
          "metadata": {}
        }
      ]
    },
    {
      "cell_type": "markdown",
      "source": "**Ex:9(To convert minutes to hours)**",
      "metadata": {}
    },
    {
      "cell_type": "code",
      "source": "minutes = 324\nhours = minutes // 60\nremaining_minutes = minutes % 60\nprint(hours,\"hrs\",remaining_minutes,\"min\")",
      "metadata": {
        "trusted": true
      },
      "execution_count": 12,
      "outputs": [
        {
          "name": "stdout",
          "text": "5 hrs 24 min\n",
          "output_type": "stream"
        }
      ]
    },
    {
      "cell_type": "markdown",
      "source": "**Ex:10(list objectives)**",
      "metadata": {}
    },
    {
      "cell_type": "markdown",
      "source": "We covered data science languages in Exercise 4 <br> data science tools and libraries till exercise 6 <br> we covered basic arithmetic operations and some programs.",
      "metadata": {}
    },
    {
      "cell_type": "markdown",
      "source": "**Ex:11(Author name)**",
      "metadata": {}
    },
    {
      "cell_type": "markdown",
      "source": "Arun Shankar",
      "metadata": {}
    }
  ]
}